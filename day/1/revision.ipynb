{
 "cells": [
  {
   "cell_type": "markdown",
   "id": "7f34b694",
   "metadata": {},
   "source": [
    "Іноді тобі доведеться працювати з «чистим» пітонівським кодом (файли `.py`), іноді - в таких jupyter ноутбуках (файли `.ipynb`). В цьому ноутбуці займемося повторенням вже (колись давно) вивченого: змінних, списків, умовних виразів (`if`), та циклів (`while` та for).\n",
    "\n",
    "Нагадую: щоб запустити код в клітинках з кодом, тисни трикутник зліва."
   ]
  },
  {
   "cell_type": "markdown",
   "id": "ab282762",
   "metadata": {},
   "source": [
    "#### Змінні"
   ]
  },
  {
   "cell_type": "markdown",
   "id": "ad2a7917",
   "metadata": {},
   "source": [
    "Базовий елемент будь-якої мови програмування. Поки що пояснювати нічого)"
   ]
  },
  {
   "cell_type": "code",
   "execution_count": 2,
   "id": "35d7b082",
   "metadata": {},
   "outputs": [
    {
     "name": "stdout",
     "output_type": "stream",
     "text": [
      "3\n",
      "4\n"
     ]
    }
   ],
   "source": [
    "x = 3\n",
    "print(x)\n",
    "x = 4\n",
    "print(x)"
   ]
  },
  {
   "cell_type": "markdown",
   "id": "f0df6d19",
   "metadata": {},
   "source": [
    "Всередині (на **низькому рівні** :))), коли ти виконуєш `x=3`, пітон спочатку кудись в пам'ять комп'ютера записує \"ціле число 3\", а потім записує, що \"х\" відповідає цій комірці в пам'яті:"
   ]
  },
  {
   "cell_type": "markdown",
   "id": "42967a2c",
   "metadata": {},
   "source": [
    "![assign_by_value](image.png)"
   ]
  },
  {
   "cell_type": "markdown",
   "id": "162629ef",
   "metadata": {},
   "source": [
    "В цьому прикладі, та трійка - всьо, її більше немає. Замість двох чисел там можуть бути число та рядок, два рядка, будь-що."
   ]
  },
  {
   "cell_type": "markdown",
   "id": "14ba0a3b",
   "metadata": {},
   "source": [
    "### Списки"
   ]
  },
  {
   "cell_type": "code",
   "execution_count": 6,
   "id": "98e2dc7d",
   "metadata": {},
   "outputs": [
    {
     "name": "stdout",
     "output_type": "stream",
     "text": [
      "[]\n",
      "--\n",
      "[1, 2, 3, 'bombus']\n",
      "1\n",
      "bombus\n",
      "[1]\n",
      "[2, 3, 'bombus']\n",
      "[2, 'bombus']\n"
     ]
    }
   ],
   "source": [
    "x = [] # порожній список\n",
    "print(x)\n",
    "print('--')\n",
    "x = [1,2,3,'bombus']\n",
    "print(x)\n",
    "print(x[0])\n",
    "print(x[-1]) # додавши мінус до індекса, можна рахувати з кінця\n",
    "print(x[:1]) # :n - \"всі елементи до індекса n невключно\"\n",
    "print(x[1:]) # n: - \"всі елементи від індекса n включно\"\n",
    "print(x[1::2]) # n::m \"кожний n-тий елемент, починаючи з індекса m\"\n",
    "# спробуй прибрати (просто не писати) n:"
   ]
  },
  {
   "cell_type": "code",
   "execution_count": 7,
   "id": "bd8b7c39",
   "metadata": {},
   "outputs": [
    {
     "name": "stdout",
     "output_type": "stream",
     "text": [
      "[1, 2, 3, 'bombus', 'appended']\n",
      "['inserted', 1, 2, 3, 'bombus', 'appended']\n",
      "[1, 2, 3, 'bombus', 'appended']\n"
     ]
    }
   ],
   "source": [
    "x.append('appended') # додати в кінець\n",
    "print(x)\n",
    "x.insert(0, 'inserted') # додати і помістити на вказаний індекс\n",
    "print(x)\n",
    "x.pop(0) # вилучити елемент за вказаним індексом\n",
    "print(x)"
   ]
  },
  {
   "cell_type": "markdown",
   "id": "092422b5",
   "metadata": {},
   "source": [
    "### Умовні вирази"
   ]
  },
  {
   "cell_type": "markdown",
   "id": "ff8f56f0",
   "metadata": {},
   "source": [
    "Один з типів в пітоні - `bool` (логічний). Булеві змінні можуть мати два значення: `True` та `False`. Логічний тип повертається, наприклад, з порівнянь між значеннями:"
   ]
  },
  {
   "cell_type": "code",
   "execution_count": 12,
   "id": "7e35c1d8",
   "metadata": {},
   "outputs": [
    {
     "name": "stdout",
     "output_type": "stream",
     "text": [
      "False\n",
      "True\n",
      "False\n",
      "True\n"
     ]
    }
   ],
   "source": [
    "print(5 < 3)\n",
    "print(3 == 3)\n",
    "x, y = 3, 3\n",
    "print(x > y)\n",
    "print(x >= y)"
   ]
  },
  {
   "cell_type": "markdown",
   "id": "d9f0c05e",
   "metadata": {},
   "source": [
    "Логічні змінні корисні для використання в якості умов в умовних виразах - `if`-ах:"
   ]
  },
  {
   "cell_type": "code",
   "execution_count": 20,
   "id": "a2dd72bd",
   "metadata": {},
   "outputs": [
    {
     "name": "stdout",
     "output_type": "stream",
     "text": [
      "x=y\n"
     ]
    }
   ],
   "source": [
    "if x > y: # якщо виконується умова (x > y), робимо наступне:\n",
    "    print('x>y')\n",
    "elif x == y: # elif - скорочення від else if. якщо умова if перед цим не виконалася (x <= y), ТА x = y, робимо наступне:\n",
    "    print('x=y')\n",
    "elif x < y: # якщо не x > y і не x = y, робимо наступне:\n",
    "    print('x<y')"
   ]
  },
  {
   "cell_type": "markdown",
   "id": "3158cb10",
   "metadata": {},
   "source": [
    "умови `elif`-ів не обов'язково мають бути пов'язані між собою:"
   ]
  },
  {
   "cell_type": "code",
   "execution_count": 22,
   "id": "24dd389a",
   "metadata": {},
   "outputs": [
    {
     "name": "stdout",
     "output_type": "stream",
     "text": [
      "bombus!\n"
     ]
    }
   ],
   "source": [
    "bombus = True\n",
    "\n",
    "if x > y:\n",
    "    print('x>y')\n",
    "elif 31 + 3 == 0:\n",
    "    print('idk')\n",
    "elif bombus:\n",
    "    print('bombus!')"
   ]
  },
  {
   "cell_type": "markdown",
   "id": "62391cba",
   "metadata": {},
   "source": [
    "Логічне \"не\" - `not` або `!`, логічне \"і\" - `and`, логічне \"або\" - `or`."
   ]
  },
  {
   "cell_type": "code",
   "execution_count": 58,
   "id": "82d9397d",
   "metadata": {},
   "outputs": [
    {
     "name": "stdout",
     "output_type": "stream",
     "text": [
      "3 not eq to 5\n"
     ]
    }
   ],
   "source": [
    "if not(3 == 5) and not(False):\n",
    "    print('3 not eq to 5')"
   ]
  },
  {
   "cell_type": "markdown",
   "id": "b676e1a8",
   "metadata": {},
   "source": [
    "Якщо дати `if`-у число, то він розцінить його як `False`, якщо воно дорівнює 0, і як `True` в іншому випадку."
   ]
  },
  {
   "cell_type": "code",
   "execution_count": null,
   "id": "bf3d8f05",
   "metadata": {},
   "outputs": [
    {
     "name": "stdout",
     "output_type": "stream",
     "text": [
      "3\n"
     ]
    }
   ],
   "source": [
    "if 3:\n",
    "    print('3')\n",
    "if 0:\n",
    "    print('0')"
   ]
  },
  {
   "cell_type": "markdown",
   "id": "3599b72d",
   "metadata": {},
   "source": [
    "---\n",
    "**Ліричний відступ**\n",
    "\n",
    "Це - коли один тип даних (ціле число, `int`) треба перетворити на інший (логічний, `bool`) - називається приведенням, або конвертацією, типів. Як саме вони приводяться, залежить від мови програмування, вхідного типу, та вихідного типу. Пітон дуже ліберально до цього ставиться: майже будь-що можна просто конвертувати в будь-що."
   ]
  },
  {
   "cell_type": "markdown",
   "id": "97e78a54",
   "metadata": {},
   "source": [
    "Нагадування: \"тип\" даних (хотілося б сказати \"змінної\", але просто число `3` також має тип (`int`), хоч і не було присвоєно змінній) - по суті, набір значень, яких ці дані можуть набувати, та набір того, шо і як з ними можна робити.\n",
    "\n",
    "Наприклад, `int` може набувати цілих значень, та з ним можна робити різні математичні операції; `str` може набувати \"текстових\" значень, і т.д."
   ]
  },
  {
   "cell_type": "code",
   "execution_count": 57,
   "id": "01f3d84b",
   "metadata": {},
   "outputs": [
    {
     "name": "stdout",
     "output_type": "stream",
     "text": [
      "x: <class 'int'> 3\n",
      "y: <class 'float'> 4.0\n",
      "z: <class 'float'> 7.0\n",
      "\n",
      "to float:  <class 'float'> 3.0\n",
      "to bool:  <class 'bool'> True\n",
      "to string:  <class 'str'> 3\n",
      "\n",
      "original:  <class 'int'> 3\n"
     ]
    }
   ],
   "source": [
    "x = 3  # ціле число\n",
    "y = 4. # десятичне число\n",
    "print('x:', type(x), x)\n",
    "print('y:', type(y), y)\n",
    "z = x + y # \"приховане\" приведення - пітон сам конвертує ціле значення x в десятичне число, щоб додати його до іншого десятичного числа.\n",
    "print('z:', type(z), z)\n",
    "\n",
    "print()\n",
    "\n",
    "x_float = float(x) # \"відкрите\" приведення - коли ти буквально кажеш пітону конвертувати один тип в інший.\n",
    "x_bool = bool(x)\n",
    "x_str = str(x)\n",
    "\n",
    "print('to float: ',type(x_float), x_float)\n",
    "print('to bool: ',type(x_bool), x_bool)\n",
    "print('to string: ',type(x_str), x_str)\n",
    "print()\n",
    "print('original: ', type(x), x) # звісно, тип оригінальної змінної не помінявся - ми (або пітон) щоразу створювали нову змінну, що дорівнювала відповідній \"інтерпретації\" значення х."
   ]
  },
  {
   "cell_type": "markdown",
   "id": "d238a76a",
   "metadata": {},
   "source": [
    "Звісно, є обмеження:"
   ]
  },
  {
   "cell_type": "code",
   "execution_count": 47,
   "id": "845e1dcd",
   "metadata": {},
   "outputs": [
    {
     "ename": "TypeError",
     "evalue": "'int' object is not iterable",
     "output_type": "error",
     "traceback": [
      "\u001b[1;31m---------------------------------------------------------------------------\u001b[0m",
      "\u001b[1;31mTypeError\u001b[0m                                 Traceback (most recent call last)",
      "Cell \u001b[1;32mIn[47], line 1\u001b[0m\n\u001b[1;32m----> 1\u001b[0m l \u001b[38;5;241m=\u001b[39m \u001b[38;5;28;43mlist\u001b[39;49m\u001b[43m(\u001b[49m\u001b[43mx\u001b[49m\u001b[43m)\u001b[49m\n\u001b[0;32m      2\u001b[0m \u001b[38;5;28mprint\u001b[39m(l)\n",
      "\u001b[1;31mTypeError\u001b[0m: 'int' object is not iterable"
     ]
    }
   ],
   "source": [
    "l = list(x)\n",
    "print(l)"
   ]
  },
  {
   "cell_type": "markdown",
   "id": "851411e2",
   "metadata": {},
   "source": [
    "**Кінець ліричного відступа**\n",
    "\n",
    "---"
   ]
  },
  {
   "cell_type": "markdown",
   "id": "eae33958",
   "metadata": {},
   "source": [
    "`if` може привести багато типів до булевого (так, як він привів ціле число - `int` - вище): наприклад, порожній рядок (`\"\"` або `''`) буде `False`, непорожній - `True`; те саме зі списками."
   ]
  },
  {
   "cell_type": "markdown",
   "id": "553e4d3c",
   "metadata": {},
   "source": []
  },
  {
   "cell_type": "markdown",
   "id": "54278f52",
   "metadata": {},
   "source": [
    "### Цикли"
   ]
  },
  {
   "cell_type": "markdown",
   "id": "aa27ffe7",
   "metadata": {},
   "source": [
    "`for x in y` проходиться по кожному елементу списка `y`, присваюючи значення поточного елемента змінній `x`, і щоразу виконує тіло циклу:"
   ]
  },
  {
   "cell_type": "code",
   "execution_count": null,
   "id": "5e5488ab",
   "metadata": {},
   "outputs": [
    {
     "name": "stdout",
     "output_type": "stream",
     "text": [
      "1\n",
      "2\n",
      "3\n",
      "4\n",
      "5\n"
     ]
    }
   ],
   "source": [
    "x = [1,2,3,4,5]\n",
    "\n",
    "for elem in x:\n",
    "    print(elem)"
   ]
  },
  {
   "cell_type": "markdown",
   "id": "6d2fb0c6",
   "metadata": {},
   "source": [
    "Якщо у тебе немає списка, але є щось, що треба виконати `n` разів, то можна використовувати `range`:"
   ]
  },
  {
   "cell_type": "code",
   "execution_count": 64,
   "id": "91feec1e",
   "metadata": {},
   "outputs": [
    {
     "name": "stdout",
     "output_type": "stream",
     "text": [
      "0\n",
      "1\n",
      "2\n",
      "3\n",
      "4\n"
     ]
    }
   ],
   "source": [
    "for x in range(5):\n",
    "    print(x)"
   ]
  },
  {
   "cell_type": "markdown",
   "id": "3788b9e0",
   "metadata": {},
   "source": [
    "Нотатка: виклик `range(start, stop, step)` повертає щось на кшталт списка, але не зовсім - зараз це неважливо. Корисно знати, що за його допомогою можна легко отримати список з чисел від `start` до `end` з кроком в `step` - але для цього треба те, що ця функція повертає, конвертувати у звичайний список:"
   ]
  },
  {
   "cell_type": "code",
   "execution_count": 63,
   "id": "1dff49e9",
   "metadata": {},
   "outputs": [
    {
     "name": "stdout",
     "output_type": "stream",
     "text": [
      "[0, 2, 4, 6, 8]\n"
     ]
    }
   ],
   "source": [
    "x = list(range(0, 10, 2))\n",
    "print(x)"
   ]
  }
 ],
 "metadata": {
  "kernelspec": {
   "display_name": "hc-mkl",
   "language": "python",
   "name": "python3"
  },
  "language_info": {
   "codemirror_mode": {
    "name": "ipython",
    "version": 3
   },
   "file_extension": ".py",
   "mimetype": "text/x-python",
   "name": "python",
   "nbconvert_exporter": "python",
   "pygments_lexer": "ipython3",
   "version": "3.11.13"
  }
 },
 "nbformat": 4,
 "nbformat_minor": 5
}
